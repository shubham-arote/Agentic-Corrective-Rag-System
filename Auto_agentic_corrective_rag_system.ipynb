{
  "nbformat": 4,
  "nbformat_minor": 0,
  "metadata": {
    "colab": {
      "provenance": [],
      "gpuType": "T4",
      "mount_file_id": "https://github.com/shubham-arote/Agentic-Corrective-Rag-System/blob/main/Auto_agentic_corrective_rag_system.ipynb",
      "authorship_tag": "ABX9TyNNSxNhPhTsLU6vnEhSOCw3",
      "include_colab_link": true
    },
    "kernelspec": {
      "name": "python3",
      "display_name": "Python 3"
    },
    "language_info": {
      "name": "python"
    },
    "accelerator": "GPU"
  },
  "cells": [
    {
      "cell_type": "markdown",
      "metadata": {
        "id": "view-in-github",
        "colab_type": "text"
      },
      "source": [
        "<a href=\"https://colab.research.google.com/github/shubham-arote/Agentic-Corrective-Rag-System/blob/main/Auto_agentic_corrective_rag_system.ipynb\" target=\"_parent\"><img src=\"https://colab.research.google.com/assets/colab-badge.svg\" alt=\"Open In Colab\"/></a>"
      ]
    },
    {
      "cell_type": "markdown",
      "source": [
        "Building agentic corrective RAG System with LangGraph\n"
      ],
      "metadata": {
        "id": "2NyzFNQO6Iui"
      }
    },
    {
      "cell_type": "code",
      "source": [
        "!pip install -q langchain langgraph langchain-community langchain-google-genai langchain-chroma langchain_groq"
      ],
      "metadata": {
        "id": "pAICJH7F7KIn",
        "colab": {
          "base_uri": "https://localhost:8080/"
        },
        "outputId": "e5d85d14-1b6d-4456-fc79-99d2c0f5f6a9"
      },
      "execution_count": 6,
      "outputs": [
        {
          "output_type": "stream",
          "name": "stdout",
          "text": [
            "\u001b[?25l   \u001b[90m━━━━━━━━━━━━━━━━━━━━━━━━━━━━━━━━━━━━━━━━\u001b[0m \u001b[32m0.0/130.8 kB\u001b[0m \u001b[31m?\u001b[0m eta \u001b[36m-:--:--\u001b[0m\r\u001b[2K   \u001b[90m━━━━━━━━━━━━━━━━━━━━━━━━━━━━━━━━━━━━━━━━\u001b[0m \u001b[32m130.8/130.8 kB\u001b[0m \u001b[31m6.5 MB/s\u001b[0m eta \u001b[36m0:00:00\u001b[0m\n",
            "\u001b[?25h"
          ]
        }
      ]
    },
    {
      "cell_type": "code",
      "source": [
        "from google.colab import userdata\n",
        "import os\n",
        "os.environ['GROQ_API_KEY'] = userdata.get('GROQ_API_KEY')\n",
        "os.environ['WEATHER_API_KEY'] = userdata.get('WEATHER_API_KEY')\n",
        "os.environ['GOOGLE_API_KEY']=userdata.get('GOOGLE_API_KEY')\n",
        "os.environ['TAVILY_API_KEY']=userdata.get('TAVILY_API_KEY')\n",
        "os.environ['HUGGINGFACE_API_KEY']=userdata.get('HUGGINGFACE_API_KEY')"
      ],
      "metadata": {
        "id": "k5k12UxtZ_rR"
      },
      "execution_count": 14,
      "outputs": []
    },
    {
      "cell_type": "code",
      "source": [
        "#Build search Index for wikipedia data\n",
        "from langchain_google_genai import GoogleGenerativeAIEmbeddings\n",
        "embedding_model = GoogleGenerativeAIEmbeddings(model=\"models/embedding-001\")"
      ],
      "metadata": {
        "id": "VdD6DWfabqgR"
      },
      "execution_count": 15,
      "outputs": []
    },
    {
      "cell_type": "code",
      "source": [
        "from langchain_groq import ChatGroq\n",
        "chatgpt = ChatGroq(\n",
        "    model = \"llama3-8b-8192\",\n",
        "    temperature = 0\n",
        ")"
      ],
      "metadata": {
        "id": "z6x4u3dYkMOQ"
      },
      "execution_count": 7,
      "outputs": []
    },
    {
      "cell_type": "markdown",
      "source": [
        "Load Documents"
      ],
      "metadata": {
        "id": "CPu3ETx4IQFh"
      }
    },
    {
      "cell_type": "code",
      "source": [
        "import gzip\n",
        "import json\n",
        "from langchain.docstore.document import Document\n",
        "from langchain.text_splitter import RecursiveCharacterTextSplitter\n",
        "wikipidea_filepath = '/content/drive/MyDrive/simplewiki-2020-11-01.jsonl.gz'\n",
        "docs = []\n",
        "with gzip.open(wikipidea_filepath, 'rt', encoding='utf-8') as f:\n",
        "    for line in f:\n",
        "        data = json.loads(line.strip())\n",
        "        #Add all paragraphs\n",
        "        docs.append(\n",
        "            {\n",
        "                'metadata': {\n",
        "                    'title': data.get('title'),\n",
        "                    'article_id': data.get('id')\n",
        "\n",
        "                },\n",
        "                'data': ' '.join(data.get('paragraphs')[0:3]) # restrict data to first three paragraphs\n",
        "            }\n",
        "        )\n",
        "\n",
        "#we subset ourt data so only use a subset of wikipedia documents\n",
        "docs = [doc for doc in docs for x in ['india']\n",
        "        if x in doc['data'].lower().split()]\n",
        "\n",
        "docs = [Document(page_content=doc['data'], metadata=doc['metadata']) for doc in docs]\n",
        "splitter = RecursiveCharacterTextSplitter(chunk_size=2000, chunk_overlap=300)\n",
        "chunked_docs = splitter.split_documents(docs)\n",
        "print(\"chunks:\", len(chunked_docs))"
      ],
      "metadata": {
        "colab": {
          "base_uri": "https://localhost:8080/"
        },
        "id": "e708XucAeGmB",
        "outputId": "7d0d77a0-24de-4636-8c77-7cd2a1f5df39"
      },
      "execution_count": 10,
      "outputs": [
        {
          "output_type": "stream",
          "name": "stdout",
          "text": [
            "chunks: 1322\n"
          ]
        }
      ]
    },
    {
      "cell_type": "code",
      "source": [
        "chunked_docs[0:3]"
      ],
      "metadata": {
        "id": "9rfZqLeYmuiV",
        "colab": {
          "base_uri": "https://localhost:8080/"
        },
        "outputId": "2fb67c22-28eb-4d06-aa94-24fb671da902"
      },
      "execution_count": 11,
      "outputs": [
        {
          "output_type": "execute_result",
          "data": {
            "text/plain": [
              "[Document(metadata={'title': 'Basil', 'article_id': '73985'}, page_content='Basil (\"Ocimum basilicum\") ( or ) is a plant of the Family Lamiaceae. It is also known as Sweet Basil or Tulsi. It is a tender low-growing herb that is grown as a perennial in warm, tropical climates. Basil is originally native to India and other tropical regions of Asia. It has been cultivated there for more than 5,000 years. It is prominently featured in many cuisines throughout the world. Some of them are Italian, Thai, Vietnamese and Laotian cuisines. It grows to between 30–60\\xa0cm tall. It has light green, silky leaves 3–5\\xa0cm long and 1–3\\xa0cm broad. The leaves are opposite each other. The flowers are quite big. They are white in color and arranged as a spike. The plant tastes somewhat like anise, with a strong, pungent, sweet smell. Basil is very sensitive to cold. It is best grown in hot, dry conditions. While most common varieties are treated as annuals, some are perennial, including African Blue and Holy Thai basil. The word \"basil\" comes from the Greek βασιλεύς (\"basileus\"), meaning \"royal\". This is because it is believed to have grown above the spot where St. Constantine and Helen discovered the Holy Cross. The \"Oxford English Dictionary\" quotes speculations that basil may have been used in \"some royal unguent, bath, or medicine\". Basil is still considered the \"king of herbs\" by many cookery authors. An alternative etymology has \"basil\" coming from the Latin word \"basilicus\", meaning dragon and being the root for basilisk, but this likely was a linguistic reworking of the word as brought from Greece.'),\n",
              " Document(metadata={'title': 'Roerich’s Pact', 'article_id': '259745'}, page_content='The Roerich Pact is a treaty on Protection of Artistic and Scientific Institutions and Historic Monuments, signed by the representatives of 21 states in the Oval Office of the White House on 15 April 1935. As of January 1, 1990, the Roerich Pact had been ratified by ten nations: Brazil, Chile, Colombia, Cuba, the Dominican Republic, El Salvador, Guatemala, Mexico, the United States, and Venezuela. It went into effect on 26 August 1935. The Government of India approved the Treaty in 1948, but did not take any further formal action. The Roerich Pact is also known as \"Pax Cultura\" (\"Cultural Peace\" or \"Peace through Culture\"). The most important part of the Roerich Pact is the legal recognition that the protection of culture is always more important than any military necessity. Russian painter and philosopher Nicholas Roerich (1874-1947) started the modern movement for the defense of cultural objects, in order for a “Peace of Civilizations”. Nicholas Roerich was born on October 9, 1874, in St. Petersburg. He became a successful painter. One of his paintings was purchased by Nicholas II of Russia.'),\n",
              " Document(metadata={'title': 'Nico Hülkenberg', 'article_id': '260252'}, page_content='Nicolas \"Nico\" Hülkenberg (born 19 August 1987 in Emmerich am Rhein, North Rhine-Westphalia) is a German racing driver. He races in Formula One for Williams. He won the 2009 GP2 Series championship. He is a past champion in Formula Three Euroseries and the A1 Grand Prix, as part of A1 Team Germany. He is one of three drivers to win the GP2 series championship in his first season. The other two are Lewis Hamilton and Nico Rosberg. Hülkenberg earned his first pole position at the Brazilian Grand Prix. His lap time was over one second faster than second place Sebastian Vettel on a drying circuit. It was the first pole for Williams in 100 races, since the European Grand Prix. After the Abu Dhabi GP, it was announced that Hülkenberg would not race for Williams in 2011. For the season, he is the third driver for the Force India team.')]"
            ]
          },
          "metadata": {},
          "execution_count": 11
        }
      ]
    },
    {
      "cell_type": "code",
      "source": [
        "from langchain_chroma import Chroma\n",
        "chroma_db = Chroma.from_documents(documents=chunked_docs,\n",
        "                                  collection_name= 'rag_wkipedia_db',\n",
        "                                  embedding=embedding_model,\n",
        "                                  collection_metadata={\"hnsw:space\": \"cosine\"},\n",
        "                                  persist_directory=\"./wikipedia_db\")"
      ],
      "metadata": {
        "id": "XaFmw63Beyes",
        "colab": {
          "base_uri": "https://localhost:8080/"
        },
        "outputId": "cc31d4f4-8f16-49f7-ab98-829746a2fc6f"
      },
      "execution_count": 16,
      "outputs": [
        {
          "output_type": "stream",
          "name": "stderr",
          "text": [
            "ERROR:chromadb.telemetry.product.posthog:Failed to send telemetry event ClientStartEvent: capture() takes 1 positional argument but 3 were given\n",
            "ERROR:chromadb.telemetry.product.posthog:Failed to send telemetry event ClientCreateCollectionEvent: capture() takes 1 positional argument but 3 were given\n"
          ]
        }
      ]
    },
    {
      "cell_type": "code",
      "source": [
        "similarity_threshold_retriever = chroma_db.as_retriever(search_type=\"similarity_score_threshold\",\n",
        "                                                       search_kwargs={\"k\": 3,\n",
        "                                                                    \"score_threshold\": 0.3})"
      ],
      "metadata": {
        "id": "E9VjM0CagXDY"
      },
      "execution_count": 17,
      "outputs": []
    },
    {
      "cell_type": "code",
      "source": [
        "query = \"What is the capital of India?\"\n",
        "top3docs = similarity_threshold_retriever.get_relevant_documents(query)\n",
        "top3docs"
      ],
      "metadata": {
        "id": "gqfn24BWhLWg",
        "colab": {
          "base_uri": "https://localhost:8080/"
        },
        "outputId": "9be50384-d518-44e1-dae7-787af4023675"
      },
      "execution_count": 18,
      "outputs": [
        {
          "output_type": "stream",
          "name": "stderr",
          "text": [
            "/tmp/ipython-input-18-1200600795.py:2: LangChainDeprecationWarning: The method `BaseRetriever.get_relevant_documents` was deprecated in langchain-core 0.1.46 and will be removed in 1.0. Use :meth:`~invoke` instead.\n",
            "  top3docs = similarity_threshold_retriever.get_relevant_documents(query)\n",
            "ERROR:chromadb.telemetry.product.posthog:Failed to send telemetry event CollectionQueryEvent: capture() takes 1 positional argument but 3 were given\n"
          ]
        },
        {
          "output_type": "execute_result",
          "data": {
            "text/plain": [
              "[Document(id='c3d46c7a-236f-464f-a25b-50b1745a5612', metadata={'article_id': '22215', 'title': 'States and union territories of India'}, page_content='The Republic of India is divided into twenty-eight States,and eight union territories including the National Capital Territory.'),\n",
              " Document(id='f26e256d-6a1d-4c8e-9832-66f68c8126ab', metadata={'title': 'Indian Ambassador to the United States', 'article_id': '590927'}, page_content='The Indian Ambassador to the United States is the main representative of India to the United States. They live in the embassy of India in Washington, D.C.'),\n",
              " Document(id='723da5aa-f75e-4c91-a469-fa1411b855ba', metadata={'article_id': '5117', 'title': 'New Delhi'}, page_content='New Delhi () is the capital of India and a union territory of the megacity of Delhi. It has a very old history and is home to several monuments where the city is expensive to live in. In traditional Indian geography it falls under the North Indian zone. The city has an area of about 42.7\\xa0km. New Delhi has a population of about 9.4 Million people.')]"
            ]
          },
          "metadata": {},
          "execution_count": 18
        }
      ]
    },
    {
      "cell_type": "markdown",
      "source": [
        "LLM GRADER OF RETRIEVED DOCUMENTS\n"
      ],
      "metadata": {
        "id": "VroNhLKaCAV8"
      }
    },
    {
      "cell_type": "code",
      "source": [
        "#Create a Query Retrieval Grader\n",
        "from langchain_core.prompts import ChatPromptTemplate\n",
        "from pydantic import BaseModel ,Field\n",
        "from langchain_google_genai import ChatGoogleGenerativeAI\n",
        "\n",
        "#Data model for LLM output format\n",
        "class GradeDocuments(BaseModel):\n",
        "    \"\"\"Binary score for relevance check on retrieved document\"\"\"\n",
        "    binary_score: str = Field(\n",
        "        description=\"Documents are relevant to the question, 'yes' or 'no'\"\n",
        "    )\n",
        "\n",
        "llm = ChatGroq(model=\"llama-3.3-70b-versatile\",temperature=0)\n",
        "structured_llm_grader = llm.with_structured_output(GradeDocuments)\n",
        "\n",
        "# prompt template for grading\n",
        "SYS_PROMPT = \"\"\"You are an expert grader assessing relevance of a retrieved document to a user question\n",
        "                Follow these instructions for grading:\n",
        "                -If the document contains keywords(s) or semantic meaning related to question ,grade it as relevant.\n",
        "                -Your grade should be either 'yes' or 'no' to indicate whether the document is relevant to the question or not\n",
        "            \"\"\"\n",
        "grade_prompt = ChatPromptTemplate.from_messages(\n",
        "    [\n",
        "        (\"system\", SYS_PROMPT),\n",
        "        (\"human\", \"\"\"Retrieved document:\n",
        "                    {document}\n",
        "                    User Question:\n",
        "                    {question}\n",
        "                    \"\"\"),\n",
        "    ]\n",
        ")\n",
        "#Build grader chain\n",
        "\n",
        "doc_grader =(grade_prompt | structured_llm_grader)"
      ],
      "metadata": {
        "id": "J34GGI9Ohi-S"
      },
      "execution_count": 30,
      "outputs": []
    },
    {
      "cell_type": "code",
      "source": [
        "query = \"What is the capital of pakistan?\"\n",
        "top3docs = similarity_threshold_retriever.get_relevant_documents(query)\n",
        "for doc in top3docs:\n",
        "    print(doc.page_content)\n",
        "    print('GRADE:',doc_grader.invoke({\"question\": query,\"document\": doc.page_content,}))\n",
        "    print()"
      ],
      "metadata": {
        "id": "Fl4FyAA2lWUu",
        "colab": {
          "base_uri": "https://localhost:8080/"
        },
        "outputId": "7567ba94-5b23-41cc-f4a2-769311347c86"
      },
      "execution_count": 24,
      "outputs": [
        {
          "output_type": "stream",
          "name": "stdout",
          "text": [
            "A capital city (or capital town or just capital) is a city or town, specified by law or constitution, by the government of a country, or part of a country, such as a state, province or county. It usually serves as the location of the government's central meeting place and offices. Most of the country's leaders and officials work in the capital city. Capitals are usually among the largest cities in their regions; often they are the biggest. For example, Montevideo is Uruguay's capital as well as its biggest city. The capital city may also be the most important center of commerce, as in London or Bangkok. However, a capital is not always the largest city in a country. For example, the capital of the India is New Delhi, which is smaller than Mumbai; and the capital of Pakistan is Islamabad, which is smaller than Karachi. Also, in countries with subdivisions like the United States, the capital cities or towns of the federated states are often not the largest or most populated town. For example, New York City is the biggest city in the United States and in New York but is not the capital of either.\n",
            "GRADE: binary_score='yes'\n",
            "\n",
            "Afghanistan (officially called Islamic Republic of Afghanistan; , ) is a country located in Central Asia and South Asia. It has borders with Pakistan in the south and east, Iran in the west, Turkmenistan, Uzbekistan and Tajikistan in the north, and China in the far northeast. In early times people passed through it with animals and other goods as it connected China and India with Central Asia and the Middle East. More recently, Afghanistan has been damaged by many years of war. This has resulted in there not being enough jobs. The country is around in size or area. There are 30 million people in Afghanistan. There are about 3 million Afghan refugees (people who had to leave the country) who are in Pakistan and Iran for some time. In 2011, its capital, Kabul, had about 3,691,400 people living in it.\n",
            "GRADE: binary_score='no'\n",
            "\n",
            "The National Library of India is the national library of India. It is in Kolkata.\n",
            "GRADE: binary_score='no'\n",
            "\n"
          ]
        }
      ]
    },
    {
      "cell_type": "code",
      "source": [
        "query = \"who won the champions league in 2024\"\n",
        "top3docs = similarity_threshold_retriever.invoke(query)\n",
        "for doc in top3docs:\n",
        "    print(doc.page_content)\n",
        "    print(doc_grader.invoke({\"document\": doc.page_content, \"question\": query}))\n",
        "    print()"
      ],
      "metadata": {
        "id": "qt0biRghmRy5",
        "colab": {
          "base_uri": "https://localhost:8080/"
        },
        "outputId": "13758a3b-cec0-4394-a1b5-4b85e26cc361"
      },
      "execution_count": 25,
      "outputs": [
        {
          "output_type": "stream",
          "name": "stdout",
          "text": [
            "India Today is a weekly Indian English-language news magazine published by Living Media India Limited.\n",
            "binary_score='no'\n",
            "\n",
            "The Supreme Court of India is the highest court of India which gives justice to people if they had made any offence.\n",
            "binary_score='no'\n",
            "\n",
            "Srinagar (, ) is a city in Jammu and Kashmir, it is claimed by Pakistan and India. It is situated on the banks of the Jhelum River, in Northern India occupied Kashmir region. It is the largest city and the summer capital of the Indian state of Jammu and Kashmir.\n",
            "binary_score='no'\n",
            "\n"
          ]
        }
      ]
    },
    {
      "cell_type": "markdown",
      "source": [
        "QA RAG CHAIN"
      ],
      "metadata": {
        "id": "PMngLgJDCLG-"
      }
    },
    {
      "cell_type": "code",
      "source": [
        "#Build QA rag chain\n",
        "from langchain_core.prompts import ChatPromptTemplate\n",
        "from langchain_google_genai import ChatGoogleGenerativeAI\n",
        "from langchain_core.runnables import RunnablePassthrough, RunnableLambda\n",
        "from langchain_core.output_parsers import StrOutputParser\n",
        "from operator import itemgetter\n",
        "\n",
        "prompt = \"\"\"You are an assistant for question-answering task\n",
        "            Use the following pieces of retrieved context to answer the question.\n",
        "            If no context is present or if you don't know the answer, just say that you don't know the answer.\n",
        "            Do not make up the answer unless it is there in the provided context.\n",
        "            Give a detaield answer and to the point answer with regard to the question\n",
        "            Question:\n",
        "            {question}\n",
        "            Context:\n",
        "            {context}\n",
        "            Answer:\n",
        "        \"\"\"\n",
        "prompt_template = ChatPromptTemplate.from_template(prompt)\n",
        "chat_gpt = ChatGoogleGenerativeAI(model=\"gemini-1.5-pro\",temperature=0)\n",
        "\n",
        "def format_docs(docs):\n",
        "    return \"\\n\\n\".join([doc.page_content for doc in docs])\n",
        "\n",
        "qa_rag_chain =(\n",
        "    {\n",
        "        \"context\": (itemgetter('context')\n",
        "                        |\n",
        "                    RunnableLambda(format_docs)),\n",
        "        \"question\": itemgetter('question')\n",
        "    }\n",
        "     |\n",
        "    prompt_template\n",
        "     |\n",
        "    chatgpt\n",
        "     |\n",
        "    StrOutputParser()\n",
        ")"
      ],
      "metadata": {
        "id": "9_SzkWjkmqnB"
      },
      "execution_count": 26,
      "outputs": []
    },
    {
      "cell_type": "code",
      "source": [
        "query = \"what is capital of pakistan\"\n",
        "top3docs = similarity_threshold_retriever.invoke(query)\n",
        "result =qa_rag_chain.invoke({\"context\": top3docs,\"question\": query})\n",
        "print(result)\n",
        "type(result)"
      ],
      "metadata": {
        "id": "36qEwREC_4kn",
        "colab": {
          "base_uri": "https://localhost:8080/"
        },
        "outputId": "bd9f7458-732d-4dfd-d715-380d0b5b0df7"
      },
      "execution_count": 27,
      "outputs": [
        {
          "output_type": "stream",
          "name": "stdout",
          "text": [
            "According to the provided context, the capital of Pakistan is Islamabad.\n"
          ]
        },
        {
          "output_type": "execute_result",
          "data": {
            "text/plain": [
              "str"
            ]
          },
          "metadata": {},
          "execution_count": 27
        }
      ]
    },
    {
      "cell_type": "markdown",
      "source": [
        "Query Rephraser"
      ],
      "metadata": {
        "id": "AN6AGZN_Cfx-"
      }
    },
    {
      "cell_type": "code",
      "source": [
        "#Create a Query Rephraser\n",
        "#prompt template\n",
        "\n",
        "SYS_PROMPT = \"\"\"Act as a question re-writer and perform the following task:\n",
        "                -convert the following input question to a better version that is optimized for web search\n",
        "                -when re-writing the question, look at the input question and try to reason about the underlying semantic meaning\n",
        "                -generate only one question in string format\n",
        "            \"\"\"\n",
        "re_write_prompt = ChatPromptTemplate.from_messages(\n",
        "    [\n",
        "        (\"system\", SYS_PROMPT),\n",
        "        (\"human\", \"\"\"Here is initial question:\n",
        "                    {question}\n",
        "                    formulate an improved question\n",
        "                \"\"\")\n",
        "    ]\n",
        ")\n",
        "question_rewriter = (re_write_prompt | llm | StrOutputParser())"
      ],
      "metadata": {
        "id": "gYG4ty01rUtq"
      },
      "execution_count": 31,
      "outputs": []
    },
    {
      "cell_type": "code",
      "source": [
        "query = \"who won the champions league in 2024\"\n",
        "question_rewriter.invoke({\"question\": query})"
      ],
      "metadata": {
        "colab": {
          "base_uri": "https://localhost:8080/",
          "height": 35
        },
        "id": "ClArGhotBeYI",
        "outputId": "d46ca984-c1bf-4b2e-bc28-35d3d4007713"
      },
      "execution_count": 32,
      "outputs": [
        {
          "output_type": "execute_result",
          "data": {
            "text/plain": [
              "'What was the result of the 2024 UEFA Champions League final, and which team emerged as the winner?'"
            ],
            "application/vnd.google.colaboratory.intrinsic+json": {
              "type": "string"
            }
          },
          "metadata": {},
          "execution_count": 32
        }
      ]
    },
    {
      "cell_type": "code",
      "source": [
        "#!pip install --upgrade --quiet  duckduckgo-search"
      ],
      "metadata": {
        "id": "62SMqEMQULiI"
      },
      "execution_count": null,
      "outputs": []
    },
    {
      "cell_type": "code",
      "source": [
        "from langchain_community.tools.tavily_search import TavilySearchResults\n",
        "tv_search = TavilySearchResults(max_results=3, search_depth= 'advanced',\n",
        "                                    max_tokens =10000)"
      ],
      "metadata": {
        "id": "Ntc-HWVHUi-n",
        "colab": {
          "base_uri": "https://localhost:8080/"
        },
        "outputId": "22a1a7c4-b626-4c2e-dd2d-acb7e8cdbed7"
      },
      "execution_count": 33,
      "outputs": [
        {
          "output_type": "stream",
          "name": "stderr",
          "text": [
            "/tmp/ipython-input-33-459900129.py:2: LangChainDeprecationWarning: The class `TavilySearchResults` was deprecated in LangChain 0.3.25 and will be removed in 1.0. An updated version of the class exists in the :class:`~langchain-tavily package and should be used instead. To use it run `pip install -U :class:`~langchain-tavily` and import as `from :class:`~langchain_tavily import TavilySearch``.\n",
            "  tv_search = TavilySearchResults(max_results=3, search_depth= 'advanced',\n"
          ]
        }
      ]
    },
    {
      "cell_type": "code",
      "source": [
        "!pip install -q duckduckgo-search"
      ],
      "metadata": {
        "id": "WAFwIVMNI_dW",
        "colab": {
          "base_uri": "https://localhost:8080/"
        },
        "outputId": "14c781a6-358b-4e42-e505-976b50dc40f6"
      },
      "execution_count": 34,
      "outputs": [
        {
          "output_type": "stream",
          "name": "stdout",
          "text": [
            "\u001b[?25l   \u001b[90m━━━━━━━━━━━━━━━━━━━━━━━━━━━━━━━━━━━━━━━━\u001b[0m \u001b[32m0.0/3.3 MB\u001b[0m \u001b[31m?\u001b[0m eta \u001b[36m-:--:--\u001b[0m\r\u001b[2K   \u001b[91m━━━━━━━━━━━━━━━━━\u001b[0m\u001b[90m╺\u001b[0m\u001b[90m━━━━━━━━━━━━━━━━━━━━━━\u001b[0m \u001b[32m1.4/3.3 MB\u001b[0m \u001b[31m42.5 MB/s\u001b[0m eta \u001b[36m0:00:01\u001b[0m\r\u001b[2K   \u001b[90m━━━━━━━━━━━━━━━━━━━━━━━━━━━━━━━━━━━━━━━━\u001b[0m \u001b[32m3.3/3.3 MB\u001b[0m \u001b[31m51.2 MB/s\u001b[0m eta \u001b[36m0:00:00\u001b[0m\n",
            "\u001b[?25h"
          ]
        }
      ]
    },
    {
      "cell_type": "code",
      "source": [
        "# load web search tool\n",
        "\n",
        "from langchain_community.tools import DuckDuckGoSearchResults\n",
        "search = DuckDuckGoSearchResults(max_results=3, search_depth='advanced',\n",
        "                                max_tokens=1000)"
      ],
      "metadata": {
        "id": "hwLXpqL0uIv-"
      },
      "execution_count": 35,
      "outputs": []
    },
    {
      "cell_type": "code",
      "source": [
        "docs =search.invoke(\"who won the champions league in 2024\")\n",
        "docs"
      ],
      "metadata": {
        "id": "opzCz4u6JZZK",
        "colab": {
          "base_uri": "https://localhost:8080/",
          "height": 174
        },
        "outputId": "d888dcf7-b52f-4d14-915e-7471f15d91ef"
      },
      "execution_count": 36,
      "outputs": [
        {
          "output_type": "execute_result",
          "data": {
            "text/plain": [
              "\"snippet: Route to glory, key stats; all you need to know about 2024/25 UEFA Champions League winners Paris., title: Paris win Champions League: Meet the 2024/25 victors - UEFA.com, link: https://www.uefa.com/uefachampionsleague/news/0299-1db3ed7babb3-e6227af6104f-1000--paris-win-champions-league-meet-the-2024-25-victors/, snippet: With their 5-0 victory over Inter Milan in the final of the 2024-2025 Champions League on Saturday 31st May, Paris Saint-Germain have made history by winning the trophy for the first time. Supported by 18,000 fans in Munich, and many more in Paris, throughout France and around the world, the Rouge & Bleu added a 55th title to their trophy cabinet with Europe's most prestigious prize., title: Paris Saint-Germain win the Champions League for the first time in ..., link: https://www.psg.fr/en/content/paris-saint-germain-win-the-champions-league-for-the-first-time-in-their-history, snippet: The UEFA Champions League is the most celebrated club tournament in the world, and has been won most-often by Real Madrid, who extended their own record tally by beating Borussia Dortmund at Wembley in 2024. For the 2024-25 season we saw a new format as the league phase brought a totally different look to the tournament., title: List of UEFA Champions League past winners: Year-by-year results, final ..., link: https://www.nbcsports.com/soccer/news/uefa-champions-league-winners-every-club-to-lift-the-european-cup, snippet: The tournament takes place between different soccer clubs across Europe, playing in different leagues of their respective countries. UEFA Champions League Winners List (1955 to 2024), title: UEFA Champions League Winners List (1955 to 2025) - Jagran Josh, link: https://www.jagranjosh.com/us/sports/uefa-champions-league-winners-list-1955-to-2024-1744892614\""
            ],
            "application/vnd.google.colaboratory.intrinsic+json": {
              "type": "string"
            }
          },
          "metadata": {},
          "execution_count": 36
        }
      ]
    },
    {
      "cell_type": "markdown",
      "source": [
        "Graph State"
      ],
      "metadata": {
        "id": "9Q_5mGlmBxcq"
      }
    },
    {
      "cell_type": "code",
      "source": [
        "from typing import List\n",
        "from typing_extensions import TypedDict\n",
        "\n",
        "class GraphState(TypedDict):\n",
        "    \"\"\"\n",
        "    Represents the state of our graph\n",
        "\n",
        "    Attributes:\n",
        "        qustion: quetions\n",
        "        generation: LLM response generation\n",
        "        web_search_needed: whether to add web search\n",
        "        documents: list of context document\n",
        "    \"\"\"\n",
        "    question: str\n",
        "    generation: str\n",
        "    web_search_needed: str\n",
        "    documents: List[str]\n"
      ],
      "metadata": {
        "id": "ePnuIJ8jvsQS"
      },
      "execution_count": 37,
      "outputs": []
    },
    {
      "cell_type": "code",
      "source": [
        "#retreive funtion  for retrival from vector df\n",
        "def retrieve(state):\n",
        "    \"\"\"\n",
        "    Retrieve documents\n",
        "    Args:\n",
        "        state(dict): The current graph state\n",
        "    Returns:\n",
        "        state(dict): New key added to state, documents - that contains the retrieved context documents\n",
        "    \"\"\"\n",
        "    print(\"--RETRIEVAL FROM VECTOR DETABASE --\")\n",
        "    question =state[\"question\"]\n",
        "    documents = similarity_threshold_retriever.invoke(question)\n",
        "    return {\"documents\": documents, \"question\": question}\n"
      ],
      "metadata": {
        "id": "vPDWweCpyaWn"
      },
      "execution_count": 38,
      "outputs": []
    },
    {
      "cell_type": "code",
      "source": [
        "#grade documents\n",
        "def grade_documents(state):\n",
        "        \"\"\"\n",
        "        Determines whether the retrieved documents are relevant to the question\n",
        "        by using an LLM Grader\n",
        "        If any document are not relevant to the question or documents are empty - Web search needs to be done\n",
        "        If all documents are relevant to the question web search is not needed\n",
        "        Helps filtering out irrelevant documents\n",
        "        Args:\n",
        "            state(dict): The current graph state\n",
        "        Returns:\n",
        "            state(dict): Updates document key with only filtered documents\n",
        "        \"\"\"\n",
        "        print(\"--CHECK DOCUMENT RELEVANCE TO QUESTION\")\n",
        "        question = state[\"question\"]\n",
        "        documents = state[\"documents\"]\n",
        "\n",
        "        #score each document\n",
        "        filtered_docs =[]\n",
        "        web_search_needed = \"No\"\n",
        "        if documents:\n",
        "            for d in documents:\n",
        "                score = doc_grader.invoke(\n",
        "                    {\"question\": question, \"document\": d.page_content})\n",
        "                grade = score.binary_score\n",
        "                if grade == \"yes\":\n",
        "                    print(\"--GRADE: DOCUMENT RELEVANT--\")\n",
        "                    filtered_docs.append(d)\n",
        "                else:\n",
        "                    print(\"--GRADE: DOCUMENT NOT RELEVANT\")\n",
        "                    web_search_needed = \"Yes\"\n",
        "                    continue\n",
        "        else:\n",
        "            print(\"--NO DOCUMENTS RETRIEVED--\")\n",
        "            web_search_needed = \"Yes\"\n",
        "        return {\"documents\":filtered_docs, \"question\":question, \"web_search_needed\": web_search_needed}"
      ],
      "metadata": {
        "id": "PSmYR1320cTz"
      },
      "execution_count": 39,
      "outputs": []
    },
    {
      "cell_type": "code",
      "source": [
        "#Rewrite query\n",
        "def rewrite_query(state):\n",
        "    \"\"\"\n",
        "    Rewrite the query to produce better question.\n",
        "\n",
        "    Args:\n",
        "        state(dict): the current graph state\n",
        "    Returns:\n",
        "        state(dict): Updates question key with a rephrased or re-written question\n",
        "    \"\"\"\n",
        "    print(\"--REWRITE QUERY--\")\n",
        "    question = state[\"question\"]\n",
        "    documents= state[\"documents\"]\n",
        "\n",
        "    # rewrite question\n",
        "    better_question = question_rewriter.invoke({\"question\": question})\n",
        "    return {\"documents\": documents, \"question\": better_question}\n",
        "    print(better_question)\n"
      ],
      "metadata": {
        "id": "7BvkgabA4GeV"
      },
      "execution_count": 40,
      "outputs": []
    },
    {
      "cell_type": "code",
      "source": [
        "#Web Search\n",
        "from langchain.schema import Document\n",
        "def web_search(state):\n",
        "    \"\"\"\n",
        "    Web search based on the re-written question.\n",
        "\n",
        "    Args:\n",
        "        state(dict): The current graph state\n",
        "    Returns:\n",
        "        state(dict): Updates documents key with appended web results\n",
        "    \"\"\"\n",
        "    print(\"--WEB SEARCH--\")\n",
        "    question = state[\"question\"]\n",
        "    documents = state[\"documents\"]\n",
        "    #web search\n",
        "    docs = tv_search.invoke(question)\n",
        "    web_result = \"\\n\\n\".join([d[\"content\"] for d in docs])\n",
        "    web_result = Document(page_content= web_result)\n",
        "    documents.append(web_result)\n",
        "    return {\"documents\": documents, \"question\": question}\n"
      ],
      "metadata": {
        "id": "vT_mNxYi5HLD"
      },
      "execution_count": 41,
      "outputs": []
    },
    {
      "cell_type": "markdown",
      "source": [],
      "metadata": {
        "id": "tlY7earBEiBd"
      }
    },
    {
      "cell_type": "code",
      "source": [
        "#Generate Answer\n",
        "def generate_answer(state):\n",
        "    \"\"\"\n",
        "    Generate answer from context document using LLM\n",
        "\n",
        "    Args:\n",
        "        state(dict): The current graph state\n",
        "    Returns:\n",
        "        state(dict): New key added to state, generation , that contains the LLM response\n",
        "    \"\"\"\n",
        "    print(\"--GENERATE ANSWER--\")\n",
        "    question = state[\"question\"]\n",
        "    documents = state[\"documents\"]\n",
        "    generation = qa_rag_chain.invoke({\"context\": documents, \"question\": question })\n",
        "    return {\"documents\":documents,\"question\": question,\"generation\": generation }\n"
      ],
      "metadata": {
        "id": "gMWwt9JOHjKc"
      },
      "execution_count": 42,
      "outputs": []
    },
    {
      "cell_type": "markdown",
      "source": [
        "Decide to Generate\n"
      ],
      "metadata": {
        "id": "oIrNx_X_hEA3"
      }
    },
    {
      "cell_type": "code",
      "source": [
        "#decide to  generate\n",
        "\n",
        "def decide_to_generate(state):\n",
        "    \"\"\"\n",
        "    Determines whether to generate an answer, or re-generate a question\n",
        "\n",
        "    Arg:\n",
        "        state(dict): The current graph state\n",
        "\n",
        "    Returns:\n",
        "        str: Binary decision for next node to call\n",
        "    \"\"\"\n",
        "    print(\"---ASSESS GRADED DOCUMENTS--\")\n",
        "    web_search_needed = state[\"web_search_needed\"]\n",
        "\n",
        "    if web_search_needed == \"Yes\":\n",
        "    #All documents have been filtered check_relevance\n",
        "    #We will re-generate new query\n",
        "        print(\"---DECISION: SOME OR ALL DOCUMENTS ARE NOT RELEVANT TO QUESTION, REWRITE QUERY--\")\n",
        "        return \"rewrite_query\"\n",
        "    else:\n",
        "    #we have relevant documents so generate answer\n",
        "        print(\"--DECISION: GENERATE RESPONSE--\")\n",
        "        return \"generate_answer\"\n"
      ],
      "metadata": {
        "id": "aMOcEye6d3gC"
      },
      "execution_count": 43,
      "outputs": []
    },
    {
      "cell_type": "code",
      "source": [
        "# Build the agent graph\n",
        "from langgraph.graph import END, StateGraph\n",
        "agentic_rag = StateGraph(GraphState)\n",
        "\n",
        "#Define the nodes\n",
        "agentic_rag.add_node(\"retrieve\", retrieve)\n",
        "agentic_rag.add_node(\"grade_documents\", grade_documents)\n",
        "agentic_rag.add_node(\"rewrite_query\",  rewrite_query)\n",
        "agentic_rag.add_node(\"web_search\", web_search)\n",
        "agentic_rag.add_node(\"generate_answer\", generate_answer)\n",
        "\n",
        "#Build graph\n",
        "agentic_rag.set_entry_point(\"retrieve\")\n",
        "agentic_rag.add_edge(\"retrieve\", \"grade_documents\")\n",
        "agentic_rag.add_conditional_edges(\n",
        "    \"grade_documents\",\n",
        "    decide_to_generate,\n",
        "    {\"rewrite_query\": \"rewrite_query\", \"generate_answer\":\"generate_answer\"}\n",
        ")\n",
        "agentic_rag.add_edge(\"rewrite_query\", \"web_search\")\n",
        "agentic_rag.add_edge(\"web_search\", \"generate_answer\")\n",
        "agentic_rag.add_edge(\"generate_answer\", END)\n",
        "\n",
        "agentic_rag = agentic_rag.compile()\n"
      ],
      "metadata": {
        "id": "3THXUZb4IxK8"
      },
      "execution_count": 44,
      "outputs": []
    },
    {
      "cell_type": "code",
      "source": [
        "from IPython.display import Image, display, Markdown\n",
        "\n",
        "display(Image(agentic_rag.get_graph().draw_mermaid_png()))"
      ],
      "metadata": {
        "id": "EVe_eTVvLWGc",
        "colab": {
          "base_uri": "https://localhost:8080/",
          "height": 647
        },
        "outputId": "44f45eb7-93ce-4f13-d849-25114563e325"
      },
      "execution_count": 45,
      "outputs": [
        {
          "output_type": "display_data",
          "data": {
            "image/png": "[encoded data removed]",
            "text/plain": [
              "<IPython.core.display.Image object>"
            ]
          },
          "metadata": {}
        }
      ]
    },
    {
      "cell_type": "code",
      "source": [
        "query = \"what is langgraph\"\n",
        "response = agentic_rag.invoke({\"question\":query})"
      ],
      "metadata": {
        "colab": {
          "base_uri": "https://localhost:8080/"
        },
        "id": "m-gnGRB1L0cd",
        "outputId": "47bcac6c-9ec7-48fa-8f85-f9ac78875abb"
      },
      "execution_count": 46,
      "outputs": [
        {
          "output_type": "stream",
          "name": "stdout",
          "text": [
            "--RETRIEVAL FROM VECTOR DETABASE --\n",
            "--CHECK DOCUMENT RELEVANCE TO QUESTION\n",
            "--GRADE: DOCUMENT NOT RELEVANT\n",
            "--GRADE: DOCUMENT NOT RELEVANT\n",
            "--GRADE: DOCUMENT NOT RELEVANT\n",
            "---ASSESS GRADED DOCUMENTS--\n",
            "---DECISION: SOME OR ALL DOCUMENTS ARE NOT RELEVANT TO QUESTION, REWRITE QUERY--\n",
            "--REWRITE QUERY--\n",
            "--WEB SEARCH--\n",
            "--GENERATE ANSWER--\n"
          ]
        }
      ]
    },
    {
      "cell_type": "code",
      "source": [
        "display(Markdown(response['generation']))"
      ],
      "metadata": {
        "colab": {
          "base_uri": "https://localhost:8080/",
          "height": 290
        },
        "id": "l64qSPqNMKYM",
        "outputId": "52313382-d6ea-4301-aac9-6f276346feb1"
      },
      "execution_count": 47,
      "outputs": [
        {
          "output_type": "display_data",
          "data": {
            "text/plain": [
              "<IPython.core.display.Markdown object>"
            ],
            "text/markdown": "LangGraph is an open-source AI agent framework designed to build, deploy, and manage complex generative AI agent workflows. It uses graph-based architectures to model and manage the relationships between various components of an AI agent workflow, providing transparency into the agent's state. LangGraph is particularly relevant to large language models (LLMs) and graph-based natural language processing (NLP) techniques as it enables the development of complex AI solutions and workflows, including chatbots, state graphs, and other agent-based systems.\n\nIn the context of LLMs, LangGraph provides a modular framework for enhancing machine translation using large language models. The framework combines the power of LLMs with the capabilities of LangGraph to analyze complex relationships between nodes, enabling enhanced decision-making and improved performance in machine translation tasks.\n\nLangGraph's graph-based architecture allows it to model intricate relationships between nodes, which represents individual components or agents within an AI workflow. This enables LangGraph to analyze the past actions and feedback of these nodes, leading to more informed decision-making and improved performance in tasks such as machine translation.\n\nIn summary, LangGraph is a powerful framework that leverages graph-based architectures and LLMs to build and scale complex AI workloads, including conversational agents, complex task automation, and custom LLM-backed experiences. Its ability to model complex relationships between nodes and analyze past actions and feedback makes it particularly well-suited for applications that require enhanced decision-making and improved performance."
          },
          "metadata": {}
        }
      ]
    },
    {
      "cell_type": "code",
      "source": [
        "query = \"who won icc the world cup in 2024?\"\n",
        "response = agentic_rag.invoke({\"question\": query})"
      ],
      "metadata": {
        "colab": {
          "base_uri": "https://localhost:8080/"
        },
        "id": "Z8sOe3gmMZk9",
        "outputId": "76148ea2-8398-4b6b-da8d-a8d2195c9730"
      },
      "execution_count": null,
      "outputs": [
        {
          "output_type": "stream",
          "name": "stdout",
          "text": [
            "--RETRIEVAL FROM VECTOR DETABASE --\n",
            "--CHECK DOCUMENT RELEVANCE TO QUESTION\n",
            "--GRADE: DOCUMENT NOT RELEVANT\n",
            "--GRADE: DOCUMENT NOT RELEVANT\n",
            "--GRADE: DOCUMENT NOT RELEVANT\n",
            "---ASSESS GRADED DOCUMENTS--\n",
            "---DECISION: SOME OR ALL DOCUMENTS ARE NOT RELEVANT TO QUESTION, REWRITE QUERY--\n",
            "--REWRITE QUERY--\n",
            "--WEB SEARCH--\n",
            "--GENERATE ANSWER--\n"
          ]
        }
      ]
    },
    {
      "cell_type": "code",
      "source": [
        "from IPython.display import Image, display, Markdown\n",
        "display(Markdown(response['generation']))"
      ],
      "metadata": {
        "id": "5LFkTCHdNGoU"
      },
      "execution_count": null,
      "outputs": []
    },
    {
      "cell_type": "code",
      "source": [
        "query = \"who won cricket world cup in 2011\"\n",
        "response = agentic_rag.invoke({\"question\":query})"
      ],
      "metadata": {
        "colab": {
          "base_uri": "https://localhost:8080/"
        },
        "id": "arxxtzJONH1U",
        "outputId": "00b9d174-a469-46ee-a645-9a647477f6e0"
      },
      "execution_count": 51,
      "outputs": [
        {
          "output_type": "stream",
          "name": "stdout",
          "text": [
            "--RETRIEVAL FROM VECTOR DETABASE --\n",
            "--CHECK DOCUMENT RELEVANCE TO QUESTION\n",
            "--GRADE: DOCUMENT RELEVANT--\n",
            "--GRADE: DOCUMENT NOT RELEVANT\n",
            "--GRADE: DOCUMENT RELEVANT--\n",
            "---ASSESS GRADED DOCUMENTS--\n",
            "---DECISION: SOME OR ALL DOCUMENTS ARE NOT RELEVANT TO QUESTION, REWRITE QUERY--\n",
            "--REWRITE QUERY--\n",
            "--WEB SEARCH--\n",
            "--GENERATE ANSWER--\n"
          ]
        }
      ]
    },
    {
      "cell_type": "code",
      "source": [
        "display(Markdown(response['generation']))"
      ],
      "metadata": {
        "colab": {
          "base_uri": "https://localhost:8080/",
          "height": 64
        },
        "id": "oWbsS0DPIAPL",
        "outputId": "5e844cc4-de0a-44b5-a851-b6f4daa3cd5c"
      },
      "execution_count": 52,
      "outputs": [
        {
          "output_type": "display_data",
          "data": {
            "text/plain": [
              "<IPython.core.display.Markdown object>"
            ],
            "text/markdown": "According to the provided context, India won the ICC Cricket World Cup in 2011, defeating Sri Lanka by 6 wickets in the final at the Wankhede Stadium in Mumbai."
          },
          "metadata": {}
        }
      ]
    }
  ]
}